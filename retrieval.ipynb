{
 "cells": [
  {
   "cell_type": "code",
   "execution_count": null,
   "metadata": {},
   "outputs": [],
   "source": [
    "%pip install pinecone-client\n",
    "%pip install neo4j"
   ]
  },
  {
   "cell_type": "code",
   "execution_count": null,
   "id": "1c2969f5",
   "metadata": {
    "vscode": {
     "languageId": "markdown"
    }
   },
   "outputs": [],
   "source": [
    "# Pinecone credentials\n",
    "PINECONE_API_KEY = \"your-pinecone-api-key\"\n",
    "PINECONE_ENVIRONMENT = \"your-pinecone-environment\"\n",
    "PINECONE_INDEX_NAME = \"your-index-name\"\n",
    "PINECONE_VECTOR_MODEL = \"\"\n",
    "\n",
    "# Neo4j credentials and URI\n",
    "NEO4J_URI = \"neo4j://localhost:7687\"  # or your Neo4j URI\n",
    "NEO4J_USERNAME = \"neo4j\"\n",
    "NEO4J_PASSWORD = \"your-password\"\n",
    "NEO4J_DATABASE = \"neo4j\"  # default database name"
   ]
  },
  {
   "cell_type": "code",
   "execution_count": null,
   "id": "a737bc38",
   "metadata": {},
   "outputs": [],
   "source": [
    "import pinecone\n",
    "\n",
    "# Initialize Pinecone with the credentials\n",
    "pinecone.init(api_key=PINECONE_API_KEY, environment=PINECONE_ENVIRONMENT)\n",
    "\n",
    "# Connect to the index\n",
    "pcIndex = pinecone.Index(PINECONE_INDEX_NAME)\n",
    "\n",
    "# Test the connection by getting index statistics\n",
    "index_stats = pcIndex.describe_index_stats()\n",
    "print(f\"Index stats: {index_stats}\")\n",
    "\n",
    "def query_vectorDB(query_text, top_k=5):\n",
    "    \"\"\"\n",
    "    Query Pinecone index with the given text\n",
    "    \n",
    "    Args:\n",
    "        query_text (str): The text to search for\n",
    "        top_k (int): Number of results to return\n",
    "        \n",
    "    Returns:\n",
    "        list: List of matching vectors with their scores\n",
    "    \"\"\"\n",
    "    try:\n",
    "        # Query the index\n",
    "        query_response = pcIndex.query(\n",
    "            vector=query_text,\n",
    "            top_k=top_k,\n",
    "            include_metadata=True\n",
    "        )\n",
    "        \n",
    "        return query_response.matches\n",
    "    except Exception as e:\n",
    "        print(f\"Error querying Pinecone: {e}\")\n",
    "        return []"
   ]
  },
  {
   "cell_type": "code",
   "execution_count": null,
   "id": "1801740d",
   "metadata": {},
   "outputs": [],
   "source": [
    "from neo4j import GraphDatabase\n",
    "\n",
    "# Create a driver instance\n",
    "driver = GraphDatabase.driver(NEO4J_URI, auth=(NEO4J_USERNAME, NEO4J_PASSWORD))\n",
    "\n",
    "# Test the connection\n",
    "def test_connection(tx):\n",
    "    result = tx.run(\"RETURN 'Connection successful!' as message\")\n",
    "    return result.single()[0]\n",
    "\n",
    "try:\n",
    "    # Test the connection using a session\n",
    "    with driver.session(database=NEO4J_DATABASE) as session:\n",
    "        message = session.execute_read(test_connection)\n",
    "        print(message)\n",
    "except Exception as e:\n",
    "    print(f\"Connection failed: {e}\")\n",
    "finally:\n",
    "    # Close the driver\n",
    "    driver.close()\n",
    "\n",
    "\n",
    "def query_neo4j(cypher_query, params=None):\n",
    "    \"\"\"\n",
    "    Execute a Cypher query on Neo4j database\n",
    "    \n",
    "    Args:\n",
    "        cypher_query (str): The Cypher query to execute\n",
    "        params (dict): Optional parameters for the query\n",
    "        \n",
    "    Returns:\n",
    "        list: List of records returned by the query\n",
    "    \"\"\"\n",
    "    results = []\n",
    "    try:\n",
    "        # Create a new driver instance since the previous one was closed\n",
    "        driver = GraphDatabase.driver(NEO4J_URI, auth=(NEO4J_USERNAME, NEO4J_PASSWORD))\n",
    "        \n",
    "        with driver.session(database=NEO4J_DATABASE) as session:\n",
    "            # Execute the query and collect results\n",
    "            records = session.run(cypher_query, parameters=params or {})\n",
    "            results = [dict(record) for record in records]\n",
    "            \n",
    "    except Exception as e:\n",
    "        print(f\"Error querying Neo4j: {e}\")\n",
    "    finally:\n",
    "        driver.close()\n",
    "        \n",
    "    return results"
   ]
  },
  {
   "cell_type": "code",
   "execution_count": null,
   "id": "bccabb4b",
   "metadata": {},
   "outputs": [],
   "source": []
  }
 ],
 "metadata": {
  "language_info": {
   "name": "python"
  }
 },
 "nbformat": 4,
 "nbformat_minor": 5
}
