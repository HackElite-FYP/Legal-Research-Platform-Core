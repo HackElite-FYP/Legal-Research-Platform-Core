{
  "cells": [
    {
      "cell_type": "code",
      "execution_count": null,
      "id": "dd0dbe9b",
      "metadata": {
        "id": "dd0dbe9b",
        "outputId": "196475c8-a252-4287-e350-5beb6816d3d2",
        "colab": {
          "base_uri": "https://localhost:8080/"
        }
      },
      "outputs": [
        {
          "output_type": "stream",
          "name": "stdout",
          "text": [
            "Collecting neo4j\n",
            "  Downloading neo4j-5.28.1-py3-none-any.whl.metadata (5.9 kB)\n",
            "Requirement already satisfied: pytz in /usr/local/lib/python3.11/dist-packages (from neo4j) (2025.2)\n",
            "Downloading neo4j-5.28.1-py3-none-any.whl (312 kB)\n",
            "\u001b[?25l   \u001b[90m━━━━━━━━━━━━━━━━━━━━━━━━━━━━━━━━━━━━━━━━\u001b[0m \u001b[32m0.0/312.3 kB\u001b[0m \u001b[31m?\u001b[0m eta \u001b[36m-:--:--\u001b[0m\r\u001b[2K   \u001b[91m━━━━━━━━━━━━━\u001b[0m\u001b[90m╺\u001b[0m\u001b[90m━━━━━━━━━━━━━━━━━━━━━━━━━━\u001b[0m \u001b[32m102.4/312.3 kB\u001b[0m \u001b[31m2.7 MB/s\u001b[0m eta \u001b[36m0:00:01\u001b[0m\r\u001b[2K   \u001b[90m━━━━━━━━━━━━━━━━━━━━━━━━━━━━━━━━━━━━━━━━\u001b[0m \u001b[32m312.3/312.3 kB\u001b[0m \u001b[31m4.8 MB/s\u001b[0m eta \u001b[36m0:00:00\u001b[0m\n",
            "\u001b[?25hInstalling collected packages: neo4j\n",
            "Successfully installed neo4j-5.28.1\n"
          ]
        }
      ],
      "source": [
        "%pip install neo4j\n"
      ]
    },
    {
      "cell_type": "code",
      "source": [
        "from google.colab import drive\n",
        "drive.mount('/content/drive')"
      ],
      "metadata": {
        "id": "FVqZKMayVKj4",
        "outputId": "f130517a-13fc-46f3-9d3b-eac49cf265ff",
        "colab": {
          "base_uri": "https://localhost:8080/"
        }
      },
      "id": "FVqZKMayVKj4",
      "execution_count": null,
      "outputs": [
        {
          "output_type": "stream",
          "name": "stdout",
          "text": [
            "Drive already mounted at /content/drive; to attempt to forcibly remount, call drive.mount(\"/content/drive\", force_remount=True).\n"
          ]
        }
      ]
    },
    {
      "cell_type": "code",
      "source": [
        "# 📦 Required imports\n",
        "import json\n",
        "import re\n",
        "import pandas as pd\n",
        "from neo4j import GraphDatabase\n",
        "from IPython.display import display"
      ],
      "metadata": {
        "id": "izq_YEj3VGAR"
      },
      "id": "izq_YEj3VGAR",
      "execution_count": null,
      "outputs": []
    },
    {
      "cell_type": "code",
      "source": [
        "# 📁 Configuration and Data Loading\n",
        "\n",
        "# CHANGE THIS LINE to point to your file path\n",
        "file_path = r\"/content/drive/MyDrive/FYP/cases_2024.json\"\n",
        "\n",
        "try:\n",
        "    with open(file_path, 'r', encoding='utf-8') as file:\n",
        "        case_data = json.load(file)\n",
        "    print(f\"✅ Successfully loaded {len(case_data)} records from case data.\")\n",
        "except FileNotFoundError:\n",
        "    print(f\"❌ Error: The file was not found at {file_path}\")\n",
        "    print(\"Please ensure the file path is correct and that your Google Drive is mounted if you're using Colab.\")\n",
        "    case_data = []"
      ],
      "metadata": {
        "id": "g84phBI_VF6d"
      },
      "id": "g84phBI_VF6d",
      "execution_count": null,
      "outputs": []
    },
    {
      "cell_type": "code",
      "source": [
        "# ⚙️ Extraction Logic and Data Processing\n",
        "\n",
        "# This improved regex uses capture groups to cleanly isolate the name, number, and year.\n",
        "act_pattern = re.compile(\n",
        "    # Group 1: The Act Name (e.g., \"The Evidence Act\")\n",
        "    r'\\b((?:[A-Z][a-z]+(?:[’\\'])?[a-z]*\\s+){0,8}(?:Act|Code|Ordinance|Law|Regulation|Rules))\\s+'\n",
        "    # Group 2: The Act Number\n",
        "    r'(?:No\\.?|Number)\\s*(\\d+)\\s+'\n",
        "    # Group 3: The Act Year\n",
        "    r'of\\s*(\\d{4})',\n",
        "    re.IGNORECASE\n",
        ")\n",
        "\n",
        "case_act_map = []\n",
        "if case_data:\n",
        "    print(\"Processing case data to extract and standardize acts...\")\n",
        "    for case in case_data:\n",
        "        case_id = case.get(\"id\", \"Unknown\")\n",
        "        content = case.get(\"text\", \"\")\n",
        "        # Pre-process content to handle newlines, which can break regex matching\n",
        "        content = content.replace('\\n', ' ')\n",
        "\n",
        "        standardized_acts = set()\n",
        "\n",
        "        # Find all matches and build the clean string directly from the components\n",
        "        for match in act_pattern.finditer(content):\n",
        "            name = ' '.join(p.capitalize() for p in match.group(1).strip().split())\n",
        "            number = match.group(2)\n",
        "            year = match.group(3)\n",
        "\n",
        "            standardized_act = f\"{name} No. {number} of {year}\"\n",
        "            standardized_acts.add(standardized_act)\n",
        "\n",
        "        case_act_map.append({\n",
        "            \"case_id\": case_id,\n",
        "            \"standardized_acts\": sorted(list(standardized_acts))\n",
        "        })\n",
        "    print(\"✅ Processing complete.\")\n",
        "else:\n",
        "    print(\"⚠️ No case data to process.\")\n",
        "\n",
        "# Preview the clean, extracted data\n",
        "df = pd.DataFrame(case_act_map)\n",
        "pd.set_option('display.max_colwidth', None)\n",
        "print(\"\\n📋 Preview of Extracted and Standardized Acts:\")\n",
        "display(df)"
      ],
      "metadata": {
        "id": "YSwqDH3ZVLzK"
      },
      "id": "YSwqDH3ZVLzK",
      "execution_count": null,
      "outputs": []
    },
    {
      "cell_type": "code",
      "source": [
        "#act standardizer\n"
      ],
      "metadata": {
        "id": "Aj_OPSLoWA2-"
      },
      "id": "Aj_OPSLoWA2-",
      "execution_count": null,
      "outputs": []
    },
    {
      "cell_type": "code",
      "source": [
        "# 🧠 Neo4j Connector Class\n",
        "\n",
        "class Neo4jConnector:\n",
        "    def __init__(self, uri, user, password):\n",
        "        self.driver = GraphDatabase.driver(uri, auth=(user, password))\n",
        "\n",
        "    def close(self):\n",
        "        \"\"\"Closes the database connection.\"\"\"\n",
        "        if self.driver:\n",
        "            self.driver.close()\n",
        "\n",
        "    def verify_connection(self):\n",
        "        \"\"\"Verifies and prints the connection status.\"\"\"\n",
        "        self.driver.verify_connectivity()\n",
        "        print(\"✅ Connection to Neo4j AuraDB verified successfully.\")\n",
        "\n",
        "    def push_case_with_acts(self, case_id, acts):\n",
        "        \"\"\"Pushes a single case and its act relationships to the graph.\"\"\"\n",
        "        with self.driver.session(database=\"neo4j\") as session:\n",
        "            session.execute_write(self._create_graph_tx, case_id, acts)\n",
        "\n",
        "    @staticmethod\n",
        "    def _create_graph_tx(tx, case_id, acts):\n",
        "        # This Cypher query remains the same, but now receives clean data\n",
        "        tx.run(\"MERGE (c:Case {id: $case_id})\", case_id=case_id)\n",
        "        for act in acts:\n",
        "            tx.run(\n",
        "                \"\"\"\n",
        "                MATCH (c:Case {id: $case_id})\n",
        "                MERGE (a:Act {name: $act})\n",
        "                MERGE (c)-[:REFERS_TO]->(a)\n",
        "                \"\"\", case_id=case_id, act=act\n",
        "            )\n",
        "\n",
        "    def get_acts_for_case(self, case_id):\n",
        "        \"\"\"Queries for a case and returns a list of its referred act names.\"\"\"\n",
        "        with self.driver.session(database=\"neo4j\") as session:\n",
        "            return session.read_transaction(self._get_acts_tx, case_id)\n",
        "\n",
        "    @staticmethod\n",
        "    def _get_acts_tx(tx, case_id):\n",
        "        query = (\n",
        "            \"MATCH (c:Case {id: $case_id})-[:REFERS_TO]->(a:Act) \"\n",
        "            \"RETURN a.name AS act_name\"\n",
        "        )\n",
        "        result = tx.run(query, case_id=case_id)\n",
        "        return [record[\"act_name\"] for record in result]"
      ],
      "metadata": {
        "id": "yXwrLnuYVQHh"
      },
      "id": "yXwrLnuYVQHh",
      "execution_count": null,
      "outputs": []
    },
    {
      "cell_type": "code",
      "source": [
        "# 🚀 Data Ingestion to Neo4j\n",
        "\n",
        "# --- IMPORTANT ---\n",
        "# ⚠️ Before running this, clear your database of old, messy data by running this\n",
        "#    Cypher query in your Neo4j console:\n",
        "#    MATCH (n) DETACH DELETE n\n",
        "\n",
        "NEO4J_URI = \"neo4j+s://66d16355.databases.neo4j.io\"\n",
        "NEO4J_USER = \"neo4j\"\n",
        "NEO4J_PASSWORD = \"G4UXZ6KLGd1dzo57rp6ITypJHZ37aM1fn-exAWdw3p8\"\n",
        "\n",
        "print(\"--- Phase 1: Data Ingestion ---\")\n",
        "neo4j_conn = None\n",
        "try:\n",
        "    neo4j_conn = Neo4jConnector(uri=NEO4J_URI, user=NEO4J_USER, password=NEO4J_PASSWORD)\n",
        "    neo4j_conn.verify_connection()\n",
        "\n",
        "    print(\"Pushing clean, standardized data to Neo4j...\")\n",
        "    count = 0\n",
        "    for entry in case_act_map:\n",
        "        if entry[\"standardized_acts\"]:\n",
        "            neo4j_conn.push_case_with_acts(entry[\"case_id\"], entry[\"standardized_acts\"])\n",
        "            count += 1\n",
        "    print(f\"✅ Successfully pushed {count} cases with standardized act relationships to Neo4j.\")\n",
        "\n",
        "except Exception as e:\n",
        "    print(f\"❌ An error occurred during the Neo4j push operation: {e}\")\n",
        "\n",
        "finally:\n",
        "    if neo4j_conn:\n",
        "        neo4j_conn.close()\n",
        "        print(\"Neo4j push connection closed.\")"
      ],
      "metadata": {
        "id": "xLwZ_wIjVTpi"
      },
      "id": "xLwZ_wIjVTpi",
      "execution_count": null,
      "outputs": []
    },
    {
      "cell_type": "code",
      "source": [
        "# ❓ Query a Specific Case and Display Results\n",
        "\n",
        "def parse_standardized_act_name(act_name_str):\n",
        "    \"\"\"Parses a standardized act name back into its components for display.\"\"\"\n",
        "    parsing_pattern = re.compile(r'^(.*)\\s+No\\.\\s+(\\d+)\\s+of\\s+(\\d{4})$')\n",
        "    match = parsing_pattern.match(act_name_str)\n",
        "    if match:\n",
        "        return {\"act_name\": match.group(1).strip(), \"act_number\": match.group(2), \"year\": match.group(3)}\n",
        "    return {\"act_name\": act_name_str, \"act_number\": \"N/A\", \"year\": \"N/A\"}\n",
        "\n",
        "# --- CONFIGURATION ---\n",
        "# <<-- CHANGE THIS ID to the case you want to query from your data\n",
        "target_case_id = \"4c4ebba0-1876-43ba-adf6-79afca98fceb\" # Example case ID\n",
        "\n",
        "print(f\"\\n--- Phase 2: Querying Data ---\")\n",
        "print(f\"\\nQuerying for acts referred by Case ID: '{target_case_id}'\")\n",
        "\n",
        "neo4j_conn = None\n",
        "try:\n",
        "    neo4j_conn = Neo4jConnector(uri=NEO4J_URI, user=NEO4J_USER, password=NEO4J_PASSWORD)\n",
        "    neo4j_conn.verify_connection()\n",
        "\n",
        "    referred_acts = neo4j_conn.get_acts_for_case(target_case_id)\n",
        "\n",
        "    if referred_acts:\n",
        "        print(f\"Found {len(referred_acts)} referred act(s). Formatting output...\")\n",
        "        formatted_acts = [parse_standardized_act_name(act) for act in referred_acts]\n",
        "\n",
        "        # Display the results in a clean pandas DataFrame\n",
        "        acts_df = pd.DataFrame(formatted_acts)\n",
        "        acts_df = acts_df[[\"act_name\", \"act_number\", \"year\"]] # Ensure column order\n",
        "        display(acts_df)\n",
        "    else:\n",
        "        print(f\"No referred acts found in the database for Case ID: '{target_case_id}'\")\n",
        "\n",
        "except Exception as e:\n",
        "    print(f\"❌ An error occurred during the Neo4j query operation: {e}\")\n",
        "\n",
        "finally:\n",
        "    if neo4j_conn:\n",
        "        neo4j_conn.close()\n",
        "        print(\"Neo4j query connection closed.\")"
      ],
      "metadata": {
        "id": "6MPLNiuvVbR2"
      },
      "id": "6MPLNiuvVbR2",
      "execution_count": null,
      "outputs": []
    }
  ],
  "metadata": {
    "kernelspec": {
      "display_name": "Python 3",
      "language": "python",
      "name": "python3"
    },
    "language_info": {
      "codemirror_mode": {
        "name": "ipython",
        "version": 3
      },
      "file_extension": ".py",
      "mimetype": "text/x-python",
      "name": "python",
      "nbconvert_exporter": "python",
      "pygments_lexer": "ipython3",
      "version": "3.11.9"
    },
    "colab": {
      "provenance": []
    }
  },
  "nbformat": 4,
  "nbformat_minor": 5
}