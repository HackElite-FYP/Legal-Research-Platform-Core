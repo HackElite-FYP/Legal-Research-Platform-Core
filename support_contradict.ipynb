{
 "cells": [
  {
   "cell_type": "code",
   "execution_count": null,
   "id": "b51dacf0",
   "metadata": {},
   "outputs": [],
   "source": [
    "output_dir = \"/content/drive/MyDrive/FYP/legal_argument_model_roberta_base\"\n",
    "    os.makedirs(output_dir, exist_ok=True)\n",
    "    trainer.save_model(output_dir)\n",
    "    tokenizer.save_pretrained(output_dir)\n",
    "    print(f\"\\nModel and tokenizer saved to {output_dir}\")\n",
    "\n",
    "    # Function to make predictions\n",
    "    def predict(text, model_path, tokenizer_path):\n",
    "        # Load model and tokenizer\n",
    "        model = AutoModelForSequenceClassification.from_pretrained(model_path)\n",
    "        tokenizer = AutoTokenizer.from_pretrained(tokenizer_path)\n",
    "\n",
    "        # Tokenize input\n",
    "        inputs = tokenizer(text, return_tensors=\"pt\", padding=True, truncation=True, max_length=256)\n",
    "\n",
    "        # Get predictions\n",
    "        with torch.no_grad():\n",
    "            outputs = model(**inputs)\n",
    "\n",
    "        # Get predicted class\n",
    "        predicted_class_id = torch.argmax(outputs.logits, dim=1).item()\n",
    "        return model.config.id2label[predicted_class_id]"
   ]
  }
 ],
 "metadata": {
  "language_info": {
   "name": "python"
  }
 },
 "nbformat": 4,
 "nbformat_minor": 5
}
